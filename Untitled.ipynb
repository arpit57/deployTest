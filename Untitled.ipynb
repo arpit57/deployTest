{
 "cells": [
  {
   "cell_type": "code",
   "execution_count": 4,
   "id": "fee0168e-e523-4c53-8687-080d8a174069",
   "metadata": {},
   "outputs": [],
   "source": [
    "import os\n",
    "os.environ[\"CUDA_VISIBLE_DEVICES\"] = \"\"\n"
   ]
  },
  {
   "cell_type": "code",
   "execution_count": 5,
   "id": "5aab6666-b2ba-4d03-9427-db83b93c0276",
   "metadata": {},
   "outputs": [
    {
     "name": "stdout",
     "output_type": "stream",
     "text": [
      "Tensor is on: cuda:0\n"
     ]
    }
   ],
   "source": [
    "import torch\n",
    "\n",
    "# Check if CUDA is available\n",
    "if torch.cuda.is_available():\n",
    "    # Create a tensor\n",
    "    x = torch.tensor([1.0, 2.0])\n",
    "    \n",
    "    # Move the tensor to GPU\n",
    "    x = x.to(\"cuda:0\")\n",
    "    \n",
    "    # Print the device property of tensor (should be cuda)\n",
    "    print(\"Tensor is on:\", x.device)\n",
    "else:\n",
    "    print(\"CUDA is not available.\")\n"
   ]
  },
  {
   "cell_type": "code",
   "execution_count": 2,
   "id": "309c4325-00e3-4424-8d11-1bf795cc097d",
   "metadata": {},
   "outputs": [
    {
     "name": "stdout",
     "output_type": "stream",
     "text": [
      "imba lives on land and eats meat\n",
      "Nemo lives in water and eats plants\n"
     ]
    }
   ],
   "source": [
    "from abc import ABC, abstractmethod\n",
    "\n",
    "# Abstract class for Diet\n",
    "class Diet(ABC):\n",
    "    @abstractmethod\n",
    "    def food(self):\n",
    "        pass\n",
    "\n",
    "class CarnivoreDiet(Diet):\n",
    "    def food(self):\n",
    "        return \"meat\"\n",
    "\n",
    "class HerbivoreDiet(Diet):\n",
    "    def food(self):\n",
    "        return \"plants\"\n",
    "\n",
    "# Abstract class for Habitat\n",
    "class Habitat(ABC):\n",
    "    @abstractmethod\n",
    "    def environment(self):\n",
    "        pass\n",
    "\n",
    "class LandHabitat(Habitat):\n",
    "    def environment(self):\n",
    "        return \"land\"\n",
    "\n",
    "class WaterHabitat(Habitat):\n",
    "    def environment(self):\n",
    "        return \"water\"\n",
    "\n",
    "# Abstract base class for Animal\n",
    "class AbstractAnimal(ABC):\n",
    "\n",
    "    def __init__(self, name, age):\n",
    "        self.name = name\n",
    "        self.age = age\n",
    "\n",
    "    @abstractmethod\n",
    "    def sound(self):\n",
    "        pass\n",
    "\n",
    "    @abstractmethod\n",
    "    def habitat(self) -> Habitat:\n",
    "        pass\n",
    "\n",
    "    @abstractmethod\n",
    "    def diet(self) -> Diet:\n",
    "        pass\n",
    "\n",
    "# Derived classes from AbstractAnimal\n",
    "class Lion(AbstractAnimal):\n",
    "\n",
    "    def sound(self):\n",
    "        return \"Roar!\"\n",
    "\n",
    "    def habitat(self):\n",
    "        return LandHabitat()\n",
    "\n",
    "    def diet(self):\n",
    "        return CarnivoreDiet()\n",
    "\n",
    "class Fish(AbstractAnimal):\n",
    "\n",
    "    def sound(self):\n",
    "        return \"Blub blub\"\n",
    "\n",
    "    def habitat(self):\n",
    "        return WaterHabitat()\n",
    "\n",
    "    def diet(self):\n",
    "        return HerbivoreDiet()\n",
    "\n",
    "# Usage\n",
    "simba = Lion(\"simba\", 5)\n",
    "print(f\"{simba.name} lives on {simba.habitat().environment()} and eats {simba.diet().food()}\")\n",
    "\n",
    "nemo = Fish(\"Nemo\", 2)\n",
    "print(f\"{nemo.name} lives in {nemo.habitat().environment()} and eats {nemo.diet().food()}\")\n"
   ]
  },
  {
   "cell_type": "code",
   "execution_count": 19,
   "id": "b8418eaa-eed6-4ca0-a6ca-1bfa51d0fc53",
   "metadata": {},
   "outputs": [],
   "source": [
    "from abc import ABC, abstractmethod\n",
    "\n",
    "class AbstractAnimal(ABC):\n",
    "\n",
    "    def __init__(self, name, colour):\n",
    "        self.name = name\n",
    "        self.colour = colour\n",
    "\n",
    "    @abstractmethod\n",
    "    def sound(self):\n",
    "        pass\n",
    "\n",
    "    @abstractmethod\n",
    "    def get_colour(self):\n",
    "        pass\n",
    "\n",
    "class Dog(AbstractAnimal):\n",
    "    def sound(self):\n",
    "        return f\"{self.name} says: Woof!\"\n",
    "    def get_colour(self):\n",
    "        return f\"{self.name} has colour: {self.colour}\"\n",
    "\n",
    "class Cat(AbstractAnimal):\n",
    "    def sound(self):\n",
    "        return f\"{self.name} says: Meow!\"\n",
    "    def get_colour(self):\n",
    "        return f\"{self.name} has colour: {self.colour}\"\n",
    "\n",
    "bruno = Dog(\"Bruno\", \"green\")"
   ]
  },
  {
   "cell_type": "code",
   "execution_count": 20,
   "id": "cc20d22c-8903-4ce9-92c6-87abbe2c047e",
   "metadata": {},
   "outputs": [
    {
     "data": {
      "text/plain": [
       "'Bruno has colour: green'"
      ]
     },
     "execution_count": 20,
     "metadata": {},
     "output_type": "execute_result"
    }
   ],
   "source": [
    "bruno.get_colour()"
   ]
  },
  {
   "cell_type": "code",
   "execution_count": 10,
   "id": "523c31e0-c813-45d7-9f2d-ebd7f14b8b81",
   "metadata": {},
   "outputs": [
    {
     "data": {
      "text/plain": [
       "3"
      ]
     },
     "execution_count": 10,
     "metadata": {},
     "output_type": "execute_result"
    }
   ],
   "source": [
    "bruno.age"
   ]
  },
  {
   "cell_type": "code",
   "execution_count": 3,
   "id": "bc926f39-a672-4cef-a126-f8f58fb9a330",
   "metadata": {},
   "outputs": [],
   "source": [
    "class Animal:\n",
    "\n",
    "  def make_somesound(self):\n",
    "    print(\"Some sound\")\n",
    "\n",
    "  def make_sound(self):\n",
    "    print(\"bark from Animal\")\n",
    "\n",
    "class Dog(Animal):\n",
    "\n",
    "  def make_barksound(self):\n",
    "    print(\"Bark\")"
   ]
  },
  {
   "cell_type": "code",
   "execution_count": 4,
   "id": "c591272c-4b26-401e-a99e-de9df9c37f53",
   "metadata": {},
   "outputs": [],
   "source": [
    "spot = Dog()  "
   ]
  },
  {
   "cell_type": "code",
   "execution_count": 5,
   "id": "82cc4542-5a38-494b-80cd-2ae7a0c79360",
   "metadata": {},
   "outputs": [
    {
     "name": "stdout",
     "output_type": "stream",
     "text": [
      "bark from Animal\n"
     ]
    }
   ],
   "source": [
    "spot.make_sound() # Bark"
   ]
  },
  {
   "cell_type": "code",
   "execution_count": 1,
   "id": "8dd14845-23b0-4719-abd2-888244414d0c",
   "metadata": {},
   "outputs": [
    {
     "name": "stdout",
     "output_type": "stream",
     "text": [
      "Value from Parent: 10\n",
      "Value from Child: 20\n"
     ]
    }
   ],
   "source": [
    "class Parent:\n",
    "    def __init__(self, value):\n",
    "        self.value = value\n",
    "\n",
    "    def show(self):\n",
    "        print(f\"Value from Parent: {self.value}\")\n",
    "\n",
    "\n",
    "class Child(Parent):\n",
    "    def __init__(self, value, child_value):\n",
    "        super().__init__(value)  # Calls the __init__ method of Parent class\n",
    "        self.child_value = child_value\n",
    "\n",
    "    def show(self):\n",
    "        super().show()  # Calls the show method of Parent class\n",
    "        print(f\"Value from Child: {self.child_value}\")\n",
    "\n",
    "\n",
    "# Create an instance of Child\n",
    "child_instance = Child(10, 20)\n",
    "\n",
    "# Calls the show method from Child, which in turn calls the show method from Parent\n",
    "child_instance.show()\n"
   ]
  },
  {
   "cell_type": "code",
   "execution_count": 2,
   "id": "e1e518db-249a-4fbf-9c47-b27d831e9053",
   "metadata": {},
   "outputs": [
    {
     "name": "stdout",
     "output_type": "stream",
     "text": [
      "Computer: GigaComp, Processor cores: 8, GPU: Nvidia RTX 3080, Storage: 512GB\n"
     ]
    }
   ],
   "source": [
    "class Computer:\n",
    "    def __init__(self, name):\n",
    "        self.name = name\n",
    "\n",
    "    def description(self):\n",
    "        return f\"Computer: {self.name}\"\n",
    "\n",
    "class Processor(Computer):\n",
    "    def __init__(self, name, cores):\n",
    "        super().__init__(name)\n",
    "        self.cores = cores\n",
    "\n",
    "    def description(self):\n",
    "        return f\"{super().description()}, Processor cores: {self.cores}\"\n",
    "\n",
    "class GraphicsCard(Processor):\n",
    "    def __init__(self, name, cores, gpu):\n",
    "        super().__init__(name, cores)\n",
    "        self.gpu = gpu\n",
    "\n",
    "    def description(self):\n",
    "        return f\"{super().description()}, GPU: {self.gpu}\"\n",
    "\n",
    "class Storage(GraphicsCard):\n",
    "    def __init__(self, name, cores, gpu, storage_capacity):\n",
    "        super().__init__(name, cores, gpu)\n",
    "        self.storage_capacity = storage_capacity\n",
    "\n",
    "    def description(self):\n",
    "        return f\"{super().description()}, Storage: {self.storage_capacity}GB\"\n",
    "\n",
    "class ComputerShop:\n",
    "    def build_computer(self):\n",
    "        # Each subclass adds additional information to the description\n",
    "        computer = Storage(name=\"GigaComp\", cores=8, gpu=\"Nvidia RTX 3080\", storage_capacity=512)\n",
    "        return computer.description()\n",
    "\n",
    "# Creating a computer in the shop\n",
    "shop = ComputerShop()\n",
    "print(shop.build_computer())\n"
   ]
  },
  {
   "cell_type": "code",
   "execution_count": 3,
   "id": "2e7c3ebb-0c2e-4db4-a738-56dd7dfc0736",
   "metadata": {},
   "outputs": [
    {
     "name": "stdout",
     "output_type": "stream",
     "text": [
      "\n"
     ]
    }
   ],
   "source": [
    "print(\"\")"
   ]
  },
  {
   "cell_type": "code",
   "execution_count": null,
   "id": "6178ebd1-b6b3-4485-b0e7-371734728a31",
   "metadata": {},
   "outputs": [],
   "source": []
  }
 ],
 "metadata": {
  "kernelspec": {
   "display_name": "Python 3 (ipykernel)",
   "language": "python",
   "name": "python3"
  },
  "language_info": {
   "codemirror_mode": {
    "name": "ipython",
    "version": 3
   },
   "file_extension": ".py",
   "mimetype": "text/x-python",
   "name": "python",
   "nbconvert_exporter": "python",
   "pygments_lexer": "ipython3",
   "version": "3.8.10"
  }
 },
 "nbformat": 4,
 "nbformat_minor": 5
}
